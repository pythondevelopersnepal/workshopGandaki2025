{
 "cells": [
  {
   "cell_type": "markdown",
   "id": "53c7c36c",
   "metadata": {},
   "source": [
    "### The MNIST dataset, which stands for the Modified National Institute of Standards and Technology dataset, is a widely used collection of grayscale images of handwritten digits (0 through 9). It serves as a benchmark dataset in the field of machine learning, particularly for training and testing image classification algorithms\n",
    "- Content: It contains images of individual handwritten digits from 0 to 9.   \n",
    "- Size: The dataset is divided into two parts:\n",
    "- Training set: 60,000 images used for training machine learning models.   \n",
    "- Testing set: 10,000 images used for evaluating the performance of trained models.   \n",
    "\n",
    "#### Image Format: Each image is:\n",
    "- Grayscale: Meaning it has only one color channel, representing the intensity of black and white.   \n",
    "- Size-normalized and centered: The digits have been scaled and positioned within a fixed size.   \n",
    "- Resolution: 28x28 pixels. "
   ]
  },
  {
   "cell_type": "code",
   "execution_count": 11,
   "id": "65481692",
   "metadata": {},
   "outputs": [],
   "source": [
    "import tensorflow as tf\n",
    "from tensorflow.keras import layers, models\n",
    "from tensorflow.keras.datasets import mnist\n",
    "from tensorflow.keras.utils import to_categorical\n",
    "import matplotlib.pyplot as plt"
   ]
  },
  {
   "cell_type": "code",
   "execution_count": 12,
   "id": "0fa76057",
   "metadata": {},
   "outputs": [],
   "source": [
    "# Load and preprocess the MNIST dataset\n",
    "(train_images, train_labels), (test_images, test_labels) = mnist.load_data()"
   ]
  },
  {
   "cell_type": "code",
   "execution_count": 13,
   "id": "22fad9a5",
   "metadata": {},
   "outputs": [
    {
     "name": "stdout",
     "output_type": "stream",
     "text": [
      "Training images shape: (60000, 28, 28)\n",
      "Training labels shape: (60000,)\n",
      "Testing images shape: (10000, 28, 28)\n",
      "Testing labels shape: (10000,)\n"
     ]
    },
    {
     "data": {
      "image/png": "[encoded data removed]",
      "text/plain": [
       "<Figure size 1000x200 with 5 Axes>"
      ]
     },
     "metadata": {},
     "output_type": "display_data"
    },
    {
     "data": {
      "image/png": "[encoded data removed]",
      "text/plain": [
       "<Figure size 1000x200 with 5 Axes>"
      ]
     },
     "metadata": {},
     "output_type": "display_data"
    }
   ],
   "source": [
    "# Print the sizes of the datasets\n",
    "print(\"Training images shape:\", train_images.shape)\n",
    "print(\"Training labels shape:\", train_labels.shape)\n",
    "print(\"Testing images shape:\", test_images.shape)\n",
    "print(\"Testing labels shape:\", test_labels.shape)\n",
    "\n",
    "# Display at least 5 training images\n",
    "plt.figure(figsize=(10, 2))\n",
    "for i in range(5):\n",
    "    plt.subplot(1, 5, i + 1)\n",
    "    plt.imshow(train_images[i], cmap='gray')\n",
    "    plt.title(f\"Label: {train_labels[i]}\")\n",
    "    plt.axis('off')\n",
    "plt.suptitle(\"First 5 Training Images\", y=1.05)\n",
    "plt.show()\n",
    "\n",
    "# Display at least 5 testing images\n",
    "plt.figure(figsize=(10, 2))\n",
    "for i in range(5):\n",
    "    plt.subplot(1, 5, i + 1)\n",
    "    plt.imshow(test_images[i], cmap='gray')\n",
    "    plt.title(f\"Label: {test_labels[i]}\")\n",
    "    plt.axis('off')\n",
    "plt.suptitle(\"First 5 Testing Images\", y=1.05)\n",
    "plt.show()"
   ]
  },
  {
   "cell_type": "markdown",
   "id": "7909c062",
   "metadata": {},
   "source": [
    "#### Pixel values in the original images range from 0 to 255. Dividing by 255.0 scales these values to the range [0, 1]. \n",
    "- This normalization helps in faster and more stable training of the neural network.\n",
    "- Dimensions remain the same: train_images: (60000, 28, 28), test_images: (10000, 28, 28)."
   ]
  },
  {
   "cell_type": "code",
   "execution_count": 3,
   "id": "df63f77b",
   "metadata": {},
   "outputs": [],
   "source": [
    "# Normalize pixel values to be between 0 and 1\n",
    "train_images = train_images.astype('float32') / 255.0\n",
    "test_images = test_images.astype('float32') / 255.0"
   ]
  },
  {
   "cell_type": "markdown",
   "id": "e556f7e6",
   "metadata": {},
   "source": [
    "#### Convolutional layers in Keras (and most deep learning frameworks) expect the input to have a specific shape that includes the number of color channels. \n",
    "- For grayscale images like MNIST, the number of channels is 1.\n",
    "- reshape() is used to add this channel dimension."
   ]
  },
  {
   "cell_type": "code",
   "execution_count": 4,
   "id": "7fabc78b",
   "metadata": {},
   "outputs": [],
   "source": [
    "# Reshape images to (height, width, channels) for CNN input\n",
    "img_rows, img_cols = train_images.shape[1], train_images.shape[2]\n",
    "train_images = train_images.reshape(train_images.shape[0], img_rows, img_cols, 1)\n",
    "test_images = test_images.reshape(test_images.shape[0], img_rows, img_cols, 1)\n",
    "input_shape = (img_rows, img_cols, 1)"
   ]
  },
  {
   "cell_type": "markdown",
   "id": "54c7cebf",
   "metadata": {},
   "source": [
    "#### New Dimensions:\n",
    "- train_images: (60000, 28, 28, 1)\n",
    "- test_images: (10000, 28, 28, 1)\n",
    "- input_shape: (28, 28, 1) - This tuple defines the expected shape of each input sample for the first layer of the CNN."
   ]
  },
  {
   "cell_type": "code",
   "execution_count": 5,
   "id": "e8d8ac15",
   "metadata": {},
   "outputs": [],
   "source": [
    "# Convert labels to one-hot encoded vectors\n",
    "num_classes = 10\n",
    "train_labels = to_categorical(train_labels, num_classes)\n",
    "test_labels = to_categorical(test_labels, num_classes)"
   ]
  },
  {
   "cell_type": "markdown",
   "id": "2a57d2fa",
   "metadata": {},
   "source": [
    "#### New Dimensions:\n",
    "- train_labels: (60000, 10)\n",
    "- test_labels: (10000, 10)"
   ]
  },
  {
   "cell_type": "code",
   "execution_count": 6,
   "id": "e5126f82",
   "metadata": {},
   "outputs": [],
   "source": [
    "# Define the CNN model\n",
    "def create_cnn_model(input_shape, num_classes):\n",
    "    model = models.Sequential()\n",
    "    model.add(layers.Conv2D(32, kernel_size=(3, 3), activation='relu', input_shape=input_shape))\n",
    "    model.add(layers.MaxPooling2D(pool_size=(2, 2)))\n",
    "    model.add(layers.Conv2D(64, kernel_size=(3, 3), activation='relu'))\n",
    "    model.add(layers.MaxPooling2D(pool_size=(2, 2)))\n",
    "    model.add(layers.Flatten())\n",
    "    model.add(layers.Dense(128, activation='relu'))\n",
    "    model.add(layers.Dropout(0.5))\n",
    "    model.add(layers.Dense(num_classes, activation='softmax'))\n",
    "    return model"
   ]
  },
  {
   "cell_type": "code",
   "execution_count": null,
   "id": "b96ff85b",
   "metadata": {},
   "outputs": [],
   "source": [
    "# Create and compile the model\n",
    "cnn_model = create_cnn_model(input_shape, num_classes)\n",
    "cnn_model.compile(loss='categorical_crossentropy',\n",
    "                  optimizer='adam',\n",
    "                  metrics=['accuracy'])"
   ]
  },
  {
   "cell_type": "markdown",
   "id": "ca850f48",
   "metadata": {},
   "source": [
    "- cnn_model = create_cnn_model(input_shape, num_classes): Calls the function to build the CNN model.\n",
    "- cnn_model.compile(...): Configures the model for training.\n",
    "- loss='categorical_crossentropy': The loss function used for multi-class classification with one-hot encoded labels. It measures the difference between the predicted probability distribution and the true distribution.\n",
    "- optimizer='adam': An adaptive optimization algorithm commonly used for training deep learning models. It adjusts the learning rate during training.\n",
    "- metrics=['accuracy']: The metric used to evaluate the performance of the model during training and testing."
   ]
  },
  {
   "cell_type": "code",
   "execution_count": 7,
   "id": "ec138890",
   "metadata": {},
   "outputs": [
    {
     "name": "stdout",
     "output_type": "stream",
     "text": [
      "Epoch 1/10\n",
      "469/469 [==============================] - 20s 42ms/step - loss: 0.3200 - accuracy: 0.9023 - val_loss: 0.0634 - val_accuracy: 0.9799\n",
      "Epoch 2/10\n",
      "469/469 [==============================] - 20s 44ms/step - loss: 0.1012 - accuracy: 0.9699 - val_loss: 0.0439 - val_accuracy: 0.9857\n",
      "Epoch 3/10\n",
      "469/469 [==============================] - 21s 45ms/step - loss: 0.0737 - accuracy: 0.9776 - val_loss: 0.0355 - val_accuracy: 0.9881\n",
      "Epoch 4/10\n",
      "469/469 [==============================] - 19s 41ms/step - loss: 0.0587 - accuracy: 0.9821 - val_loss: 0.0307 - val_accuracy: 0.9902\n",
      "Epoch 5/10\n",
      "469/469 [==============================] - 20s 42ms/step - loss: 0.0509 - accuracy: 0.9846 - val_loss: 0.0284 - val_accuracy: 0.9901\n",
      "Epoch 6/10\n",
      "469/469 [==============================] - 19s 41ms/step - loss: 0.0446 - accuracy: 0.9863 - val_loss: 0.0279 - val_accuracy: 0.9910\n",
      "Epoch 7/10\n",
      "469/469 [==============================] - 20s 42ms/step - loss: 0.0399 - accuracy: 0.9876 - val_loss: 0.0270 - val_accuracy: 0.9912\n",
      "Epoch 8/10\n",
      "469/469 [==============================] - 20s 42ms/step - loss: 0.0352 - accuracy: 0.9893 - val_loss: 0.0274 - val_accuracy: 0.9905\n",
      "Epoch 9/10\n",
      "469/469 [==============================] - 20s 43ms/step - loss: 0.0312 - accuracy: 0.9902 - val_loss: 0.0257 - val_accuracy: 0.9919\n",
      "Epoch 10/10\n",
      "469/469 [==============================] - 19s 41ms/step - loss: 0.0274 - accuracy: 0.9912 - val_loss: 0.0248 - val_accuracy: 0.9922\n"
     ]
    },
    {
     "data": {
      "text/plain": [
       "<keras.callbacks.History at 0x24ced9b69d0>"
      ]
     },
     "execution_count": 7,
     "metadata": {},
     "output_type": "execute_result"
    }
   ],
   "source": [
    "# Train the model\n",
    "epochs = 10\n",
    "batch_size = 128\n",
    "cnn_model.fit(train_images, train_labels,\n",
    "              batch_size=batch_size,\n",
    "              epochs=epochs,\n",
    "              verbose=1,\n",
    "              validation_data=(test_images, test_labels))"
   ]
  },
  {
   "cell_type": "code",
   "execution_count": 8,
   "id": "0953c29b",
   "metadata": {},
   "outputs": [
    {
     "name": "stdout",
     "output_type": "stream",
     "text": [
      "Test loss: 0.024797888472676277\n",
      "Test accuracy: 0.9922000169754028\n"
     ]
    }
   ],
   "source": [
    "# Evaluate the model\n",
    "score = cnn_model.evaluate(test_images, test_labels, verbose=0)\n",
    "print('Test loss:', score[0])\n",
    "print('Test accuracy:', score[1])"
   ]
  },
  {
   "cell_type": "code",
   "execution_count": 9,
   "id": "b50b97ec",
   "metadata": {},
   "outputs": [
    {
     "name": "stdout",
     "output_type": "stream",
     "text": [
      "Model saved at mnist_cnn_model.h5\n"
     ]
    }
   ],
   "source": [
    "# Save the trained model\n",
    "model_path = 'mnist_cnn_model.h5'\n",
    "cnn_model.save(model_path)\n",
    "print(f'Model saved at {model_path}')"
   ]
  }
 ],
 "metadata": {
  "kernelspec": {
   "display_name": "Python 3 (ipykernel)",
   "language": "python",
   "name": "python3"
  },
  "language_info": {
   "codemirror_mode": {
    "name": "ipython",
    "version": 3
   },
   "file_extension": ".py",
   "mimetype": "text/x-python",
   "name": "python",
   "nbconvert_exporter": "python",
   "pygments_lexer": "ipython3",
   "version": "3.9.13"
  }
 },
 "nbformat": 4,
 "nbformat_minor": 5
}
