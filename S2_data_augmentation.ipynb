{
 "cells": [
  {
   "cell_type": "code",
   "execution_count": 4,
   "id": "e16e6e84",
   "metadata": {},
   "outputs": [
    {
     "name": "stdout",
     "output_type": "stream",
     "text": [
      "Data augmentation complete. Augmented images saved to 'sample_dataset/augmented_images' folder.\n"
     ]
    }
   ],
   "source": [
    "from PIL import Image\n",
    "import os\n",
    "\n",
    "# Define the path to your sample dataset\n",
    "image_folder = 'sample_dataset'\n",
    "\n",
    "# Create a folder to save the augmented images\n",
    "augmented_folder = 'sample_dataset/augmented_images'\n",
    "if not os.path.exists(augmented_folder):\n",
    "    os.makedirs(augmented_folder)\n",
    "\n",
    "# List all image files in the directory\n",
    "image_files = [f for f in os.listdir(image_folder) if f.endswith('.jpg')]\n",
    "\n",
    "# Function to rotate an image by a given angle and save it\n",
    "def rotate_and_save(image_path, angle, save_path):\n",
    "    with Image.open(image_path) as img:\n",
    "        rotated_img = img.rotate(angle)  # Rotate the image\n",
    "        rotated_img.save(save_path)\n",
    "\n",
    "# Loop over the images and perform the rotations\n",
    "for image_file in image_files:\n",
    "    image_path = os.path.join(image_folder, image_file)\n",
    "    \n",
    "    # Define the save paths for rotated images\n",
    "    rotated_left_path = os.path.join(augmented_folder, f\"left_{image_file}\")\n",
    "    rotated_right_path = os.path.join(augmented_folder, f\"right_{image_file}\")\n",
    "    \n",
    "    # Rotate by -30 degrees (left) and +30 degrees (right)\n",
    "    rotate_and_save(image_path, -30, rotated_left_path)\n",
    "    rotate_and_save(image_path, 30, rotated_right_path)\n",
    "\n",
    "print(f\"Data augmentation complete. Augmented images saved to '{augmented_folder}' folder.\")\n"
   ]
  },
  {
   "cell_type": "code",
   "execution_count": null,
   "id": "387c4e5c",
   "metadata": {},
   "outputs": [],
   "source": []
  }
 ],
 "metadata": {
  "kernelspec": {
   "display_name": "Python 3 (ipykernel)",
   "language": "python",
   "name": "python3"
  },
  "language_info": {
   "codemirror_mode": {
    "name": "ipython",
    "version": 3
   },
   "file_extension": ".py",
   "mimetype": "text/x-python",
   "name": "python",
   "nbconvert_exporter": "python",
   "pygments_lexer": "ipython3",
   "version": "3.9.13"
  }
 },
 "nbformat": 4,
 "nbformat_minor": 5
}
