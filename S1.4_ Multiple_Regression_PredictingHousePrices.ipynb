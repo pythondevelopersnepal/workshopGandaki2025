{
 "cells": [
  {
   "cell_type": "markdown",
   "id": "bd11cd85",
   "metadata": {},
   "source": [
    "# S1.4_ Multiple_Regression_PredictingHousePrices"
   ]
  },
  {
   "cell_type": "markdown",
   "id": "c6dfe92c",
   "metadata": {},
   "source": [
    "# Use Case \n",
    "\n",
    "Imagine you are a real estate analyst, and you want to predict the selling price of houses in a particular neighborhood. The price of a house (dependent variable) can depend on several factors (independent variables), such as:\n",
    "\n",
    "    Size of the house (in square feet)\n",
    "    Number of bedrooms\n",
    "    Number of bathrooms\n",
    "    Age of the house\n",
    "    Distance to the nearest city center (in miles)"
   ]
  },
  {
   "cell_type": "markdown",
   "id": "2e8fa168",
   "metadata": {},
   "source": [
    "## Model\n",
    "\n",
    "- To build a multiple linear regression model, you would use the equation:\n",
    "\n",
    "- House Price=β0 + β1×House Size+ β2×Number of Bedrooms+ β3×Number of Bathrooms+ β4×Age of the House+ β5×Distance to City Center+ ϵ\n",
    "\n",
    "Where:\n",
    "\n",
    "    β0 is the intercept\n",
    "    β1,β2,β3,β4,β5 are the coefficients for each independent variable\n",
    "    ϵ is the error term"
   ]
  },
  {
   "cell_type": "markdown",
   "id": "85566df8",
   "metadata": {},
   "source": [
    "## Steps to Perform Multiple Regression\n",
    "\n",
    "- Data Collection:Gather historical data on house prices and the corresponding features (size, bedrooms,bathrooms, age, distance).\n",
    "\n",
    "- Data Preprocessing:Clean the data by handling missing values, outliers, and ensuring all data is in a suitable format for analysis.\n",
    "- Model Training: Split the data into training and testing sets. Use the training set to fit the multiple linear regression model and estimate the coefficients.\n",
    "\n",
    "- Model Evaluation:Use the testing set to evaluate the model's performance by checking metrics like R-squared, Mean Absolute Error (MAE), and Mean Squared Error (MSE).\n",
    "\n",
    "- Prediction:Use the trained model to predict house prices for new data."
   ]
  },
  {
   "cell_type": "markdown",
   "id": "7b97039c",
   "metadata": {},
   "source": [
    "## Step 1 : Importing all Relevant Libraries"
   ]
  },
  {
   "cell_type": "code",
   "execution_count": 1,
   "id": "139743ff",
   "metadata": {},
   "outputs": [],
   "source": [
    "import pandas as pd\n",
    "from sklearn.model_selection import train_test_split\n",
    "from sklearn.linear_model import LinearRegression\n",
    "from sklearn.metrics import mean_squared_error, r2_score"
   ]
  },
  {
   "cell_type": "markdown",
   "id": "fbc42191",
   "metadata": {},
   "source": [
    "## Step 2: Collecting Data"
   ]
  },
  {
   "cell_type": "code",
   "execution_count": 2,
   "id": "e11cde47",
   "metadata": {},
   "outputs": [],
   "source": [
    "# Sample data\n",
    "data = {\n",
    "    'House Size': [2000, 1500, 2500, 1800, 2200],\n",
    "    'Number of Bedrooms': [3, 2, 4, 3, 4],\n",
    "    'Number of Bathrooms': [2, 1, 3, 2, 3],\n",
    "    'Age of the House': [10, 5, 20, 15, 8],\n",
    "    'Distance to City Center': [5, 3, 10, 7, 6],\n",
    "    'House Price': [300000, 200000, 400000, 250000, 350000]\n",
    "}\n"
   ]
  },
  {
   "cell_type": "markdown",
   "id": "9996c886",
   "metadata": {},
   "source": [
    "## Step 3: Feature Engineering"
   ]
  },
  {
   "cell_type": "code",
   "execution_count": 3,
   "id": "7d81d6a4",
   "metadata": {},
   "outputs": [],
   "source": [
    "df = pd.DataFrame(data)\n",
    "\n",
    "# Features and target variable\n",
    "X = df[['House Size', 'Number of Bedrooms', 'Number of Bathrooms', 'Age of the House', 'Distance to City Center']]\n",
    "y = df['House Price']"
   ]
  },
  {
   "cell_type": "markdown",
   "id": "6266ff62",
   "metadata": {},
   "source": [
    "## Step 4: Split data into training and testing sets"
   ]
  },
  {
   "cell_type": "code",
   "execution_count": 4,
   "id": "632762e6",
   "metadata": {},
   "outputs": [],
   "source": [
    "X_train, X_test, y_train, y_test = train_test_split(X, y, test_size=0.2, random_state=42)"
   ]
  },
  {
   "cell_type": "markdown",
   "id": "4c59cad2",
   "metadata": {},
   "source": [
    "## Step 5: Model Selection and Fitting"
   ]
  },
  {
   "cell_type": "code",
   "execution_count": 5,
   "id": "7bd455fb",
   "metadata": {},
   "outputs": [
    {
     "data": {
      "text/plain": [
       "LinearRegression()"
      ]
     },
     "execution_count": 5,
     "metadata": {},
     "output_type": "execute_result"
    }
   ],
   "source": [
    "model = LinearRegression()\n",
    "model.fit(X_train, y_train)"
   ]
  },
  {
   "cell_type": "markdown",
   "id": "48ff98f4",
   "metadata": {},
   "source": [
    "## Make predictions\n"
   ]
  },
  {
   "cell_type": "code",
   "execution_count": 6,
   "id": "e8967c37",
   "metadata": {},
   "outputs": [],
   "source": [
    "y_pred = model.predict(X_test)"
   ]
  },
  {
   "cell_type": "markdown",
   "id": "36e504ca",
   "metadata": {},
   "source": [
    "## Step 6: Evaluating the Model"
   ]
  },
  {
   "cell_type": "code",
   "execution_count": 7,
   "id": "c81c749f",
   "metadata": {},
   "outputs": [
    {
     "name": "stdout",
     "output_type": "stream",
     "text": [
      "Mean Squared Error: 26009914.067434493\n"
     ]
    }
   ],
   "source": [
    "mse = mean_squared_error(y_test, y_pred)\n",
    "\n",
    "print(\"Mean Squared Error:\", mse)"
   ]
  },
  {
   "cell_type": "code",
   "execution_count": 8,
   "id": "619bdcb9",
   "metadata": {},
   "outputs": [
    {
     "name": "stdout",
     "output_type": "stream",
     "text": [
      "Intercept: -131228.71399360907\n",
      "Coefficients: [  219.06383696   877.65285258   877.65285258 -1672.34293504\n",
      "  1087.24103332]\n"
     ]
    }
   ],
   "source": [
    "print(\"Intercept:\", model.intercept_)\n",
    "print(\"Coefficients:\", model.coef_)"
   ]
  },
  {
   "cell_type": "code",
   "execution_count": 9,
   "id": "4fc87471",
   "metadata": {},
   "outputs": [
    {
     "name": "stdout",
     "output_type": "stream",
     "text": [
      "Mean Squared Error: 91119496.56747136\n",
      "R-squared: 0.9965744372726427\n",
      "Intercept: -10593.98945441452\n",
      "Coefficients: [  202.43186409  4719.83528624  9070.76270508 -1011.35948176\n",
      " -1734.67714872]\n"
     ]
    }
   ],
   "source": [
    "import pandas as pd\n",
    "import numpy as np\n",
    "from sklearn.model_selection import train_test_split\n",
    "from sklearn.linear_model import LinearRegression\n",
    "from sklearn.metrics import mean_squared_error, r2_score\n",
    "\n",
    "# Generate a larger synthetic dataset\n",
    "np.random.seed(42)\n",
    "n_samples = 100\n",
    "\n",
    "house_size = np.random.randint(1000, 4000, n_samples)\n",
    "bedrooms = np.random.randint(1, 6, n_samples)\n",
    "bathrooms = np.random.randint(1, 4, n_samples)\n",
    "house_age = np.random.randint(0, 50, n_samples)\n",
    "distance_to_city = np.random.randint(1, 20, n_samples)\n",
    "\n",
    "# Generate house prices with some noise\n",
    "house_price = (\n",
    "    house_size * 200 + \n",
    "    bedrooms * 5000 + \n",
    "    bathrooms * 7000 - \n",
    "    house_age * 1000 - \n",
    "    distance_to_city * 2000 + \n",
    "    np.random.normal(0, 10000, n_samples)\n",
    ")\n",
    "\n",
    "data = {\n",
    "    'House Size': house_size,\n",
    "    'Number of Bedrooms': bedrooms,\n",
    "    'Number of Bathrooms': bathrooms,\n",
    "    'Age of the House': house_age,\n",
    "    'Distance to City Center': distance_to_city,\n",
    "    'House Price': house_price\n",
    "}\n",
    "\n",
    "df = pd.DataFrame(data)\n",
    "\n",
    "# Features and target variable\n",
    "X = df[['House Size', 'Number of Bedrooms', 'Number of Bathrooms', 'Age of the House', 'Distance to City Center']]\n",
    "y = df['House Price']\n",
    "\n",
    "# Split data into training and testing sets\n",
    "X_train, X_test, y_train, y_test = train_test_split(X, y, test_size=0.2, random_state=42)\n",
    "\n",
    "# Create and train the model\n",
    "model = LinearRegression()\n",
    "model.fit(X_train, y_train)\n",
    "\n",
    "# Make predictions\n",
    "y_pred = model.predict(X_test)\n",
    "\n",
    "# Evaluate the model\n",
    "mse = mean_squared_error(y_test, y_pred)\n",
    "r2 = r2_score(y_test, y_pred)\n",
    "\n",
    "print(\"Mean Squared Error:\", mse)\n",
    "print(\"R-squared:\", r2)\n",
    "\n",
    "# Print the coefficients\n",
    "print(\"Intercept:\", model.intercept_)\n",
    "print(\"Coefficients:\", model.coef_)\n"
   ]
  },
  {
   "cell_type": "code",
   "execution_count": 10,
   "id": "aa0d1c34",
   "metadata": {},
   "outputs": [
    {
     "name": "stdout",
     "output_type": "stream",
     "text": [
      "Predicted House Price for the single house: 508999.7214901489\n"
     ]
    }
   ],
   "source": [
    "# Example single house features\n",
    "single_house = {\n",
    "    'House Size': 2500,\n",
    "    'Number of Bedrooms': 3,\n",
    "    'Number of Bathrooms': 2,\n",
    "    'Age of the House': 10,\n",
    "    'Distance to City Center': 5\n",
    "}\n",
    "\n",
    "# Convert the dictionary to a DataFrame\n",
    "single_house_df = pd.DataFrame([single_house])\n",
    "\n",
    "# Make a prediction for the single house\n",
    "predicted_price = model.predict(single_house_df)\n",
    "\n",
    "print(\"Predicted House Price for the single house:\", predicted_price[0])\n"
   ]
  }
 ],
 "metadata": {
  "kernelspec": {
   "display_name": "Python 3 (ipykernel)",
   "language": "python",
   "name": "python3"
  },
  "language_info": {
   "codemirror_mode": {
    "name": "ipython",
    "version": 3
   },
   "file_extension": ".py",
   "mimetype": "text/x-python",
   "name": "python",
   "nbconvert_exporter": "python",
   "pygments_lexer": "ipython3",
   "version": "3.9.13"
  }
 },
 "nbformat": 4,
 "nbformat_minor": 5
}
