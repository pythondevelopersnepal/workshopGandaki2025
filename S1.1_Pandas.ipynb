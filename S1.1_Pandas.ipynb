{
 "cells": [
  {
   "cell_type": "markdown",
   "id": "bb769e4a",
   "metadata": {},
   "source": [
    "# S1.1_Pandas \n",
    "\n",
    "This code demonstrates key pandas features:\n",
    "\n",
    "- Data Loading: Reading CSV from URL with read_csv()\n",
    "- Data Inspection: Using head() and info() for data overview\n",
    "- Grouping: Using groupby() with aggregation (mean())\n",
    "- Filtering: Boolean indexing to select specific rows\n",
    "- Statistics: Built-in descriptive statistics with describe()"
   ]
  },
  {
   "cell_type": "code",
   "execution_count": 1,
   "id": "ac09c5e6",
   "metadata": {},
   "outputs": [],
   "source": [
    "import pandas as pd\n",
    "# Load dataset\n",
    "url = \"https://raw.githubusercontent.com/uiuc-cse/data-fa14/gh-pages/data/iris.csv\"\n",
    "iris_df = pd.read_csv(url)"
   ]
  },
  {
   "cell_type": "code",
   "execution_count": 2,
   "id": "784227a4",
   "metadata": {},
   "outputs": [
    {
     "name": "stdout",
     "output_type": "stream",
     "text": [
      "Dataset Preview:\n",
      "   sepal_length  sepal_width  petal_length  petal_width species\n",
      "0           5.1          3.5           1.4          0.2  setosa\n",
      "1           4.9          3.0           1.4          0.2  setosa\n",
      "2           4.7          3.2           1.3          0.2  setosa\n",
      "3           4.6          3.1           1.5          0.2  setosa\n",
      "4           5.0          3.6           1.4          0.2  setosa\n",
      "\n",
      "Dataset Info:\n",
      "<class 'pandas.core.frame.DataFrame'>\n",
      "RangeIndex: 150 entries, 0 to 149\n",
      "Data columns (total 5 columns):\n",
      " #   Column        Non-Null Count  Dtype  \n",
      "---  ------        --------------  -----  \n",
      " 0   sepal_length  150 non-null    float64\n",
      " 1   sepal_width   150 non-null    float64\n",
      " 2   petal_length  150 non-null    float64\n",
      " 3   petal_width   150 non-null    float64\n",
      " 4   species       150 non-null    object \n",
      "dtypes: float64(4), object(1)\n",
      "memory usage: 6.0+ KB\n",
      "None\n"
     ]
    }
   ],
   "source": [
    "# Basic data exploration\n",
    "print(\"Dataset Preview:\")\n",
    "print(iris_df.head())  # First 5 rows\n",
    "print(\"\\nDataset Info:\")\n",
    "print(iris_df.info())  # Data types and non-null counts"
   ]
  },
  {
   "cell_type": "code",
   "execution_count": 3,
   "id": "351d25fc",
   "metadata": {},
   "outputs": [
    {
     "name": "stdout",
     "output_type": "stream",
     "text": [
      "\n",
      "Average measurements by species:\n",
      "            sepal_length  sepal_width  petal_length  petal_width\n",
      "species                                                         \n",
      "setosa             5.006        3.418         1.464        0.244\n",
      "versicolor         5.936        2.770         4.260        1.326\n",
      "virginica          6.588        2.974         5.552        2.026\n"
     ]
    }
   ],
   "source": [
    "# Group by species and calculate means\n",
    "species_means = iris_df.groupby('species').mean()\n",
    "print(\"\\nAverage measurements by species:\")\n",
    "print(species_means)"
   ]
  },
  {
   "cell_type": "code",
   "execution_count": 4,
   "id": "522d8515",
   "metadata": {},
   "outputs": [
    {
     "name": "stdout",
     "output_type": "stream",
     "text": [
      "\n",
      "Flowers with sepal length > 5 (first 5 rows):\n",
      "    sepal_length  sepal_width  petal_length  petal_width species\n",
      "0            5.1          3.5           1.4          0.2  setosa\n",
      "5            5.4          3.9           1.7          0.4  setosa\n",
      "10           5.4          3.7           1.5          0.2  setosa\n",
      "14           5.8          4.0           1.2          0.2  setosa\n",
      "15           5.7          4.4           1.5          0.4  setosa\n"
     ]
    }
   ],
   "source": [
    "# Basic filtering (rows where sepal_length > 5)\n",
    "long_sepals = iris_df[iris_df['sepal_length'] > 5]\n",
    "print(\"\\nFlowers with sepal length > 5 (first 5 rows):\")\n",
    "print(long_sepals.head())"
   ]
  },
  {
   "cell_type": "code",
   "execution_count": 5,
   "id": "70820fa1",
   "metadata": {},
   "outputs": [
    {
     "name": "stdout",
     "output_type": "stream",
     "text": [
      "\n",
      "Statistical Summary:\n",
      "       sepal_length  sepal_width  petal_length  petal_width\n",
      "count    150.000000   150.000000    150.000000   150.000000\n",
      "mean       5.843333     3.054000      3.758667     1.198667\n",
      "std        0.828066     0.433594      1.764420     0.763161\n",
      "min        4.300000     2.000000      1.000000     0.100000\n",
      "25%        5.100000     2.800000      1.600000     0.300000\n",
      "50%        5.800000     3.000000      4.350000     1.300000\n",
      "75%        6.400000     3.300000      5.100000     1.800000\n",
      "max        7.900000     4.400000      6.900000     2.500000\n"
     ]
    }
   ],
   "source": [
    "# Statistical summary\n",
    "print(\"\\nStatistical Summary:\")\n",
    "print(iris_df.describe())"
   ]
  }
 ],
 "metadata": {
  "kernelspec": {
   "display_name": "Python 3 (ipykernel)",
   "language": "python",
   "name": "python3"
  },
  "language_info": {
   "codemirror_mode": {
    "name": "ipython",
    "version": 3
   },
   "file_extension": ".py",
   "mimetype": "text/x-python",
   "name": "python",
   "nbconvert_exporter": "python",
   "pygments_lexer": "ipython3",
   "version": "3.9.13"
  }
 },
 "nbformat": 4,
 "nbformat_minor": 5
}
